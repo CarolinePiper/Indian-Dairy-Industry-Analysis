{
 "cells": [
  {
   "cell_type": "markdown",
   "id": "c072ebe4",
   "metadata": {},
   "source": [
    "## 6.4.1 Supervised Machine Learning - Regression"
   ]
  },
  {
   "cell_type": "markdown",
   "id": "99f3ce8b",
   "metadata": {},
   "source": [
    "## Contents List: "
   ]
  },
  {
   "cell_type": "markdown",
   "id": "47f67ad9",
   "metadata": {},
   "source": [
    "1) Import Data and Libraries\n",
    "2) Cleaning Data\n",
    "3) Data Prep for Regression Analysis\n",
    "4) Regression Analysis\n",
    "5) Summary of Results"
   ]
  },
  {
   "cell_type": "markdown",
   "id": "dc4d9d37",
   "metadata": {},
   "source": [
    "## 1. Import Data and Libraries"
   ]
  },
  {
   "cell_type": "code",
   "execution_count": 1,
   "id": "f84976a1",
   "metadata": {},
   "outputs": [],
   "source": [
    "import pandas as pd\n",
    "import numpy as np\n",
    "import seaborn as sns\n",
    "import matplotlib\n",
    "import matplotlib.pyplot as plt\n",
    "import os\n",
    "import sklearn\n",
    "from sklearn.model_selection import train_test_split \n",
    "from sklearn.linear_model import LinearRegression\n",
    "from sklearn.metrics import mean_squared_error, r2_score"
   ]
  },
  {
   "cell_type": "code",
   "execution_count": 2,
   "id": "139ff8fc",
   "metadata": {},
   "outputs": [],
   "source": [
    "# Ensures graphs created are displayed within the notebook without the need to \"call\" them specifically.\n",
    "\n",
    "%matplotlib inline"
   ]
  },
  {
   "cell_type": "code",
   "execution_count": 3,
   "id": "7203af8c",
   "metadata": {},
   "outputs": [],
   "source": [
    "# define path\n",
    "path = r'/Users/carolinelasersohn/Documents/Documents - Caroline’s MacBook Pro/data analytics/Immersion/Section 6/Final Project 6'"
   ]
  },
  {
   "cell_type": "code",
   "execution_count": 4,
   "id": "c96dde2b",
   "metadata": {},
   "outputs": [],
   "source": [
    "# Import original data set \"dairy_wrangled.csv\"\n",
    "df = pd.read_csv(os.path.join(path, '02 Data','Prepared Data', 'dairy_wrangled.csv'))"
   ]
  },
  {
   "cell_type": "markdown",
   "id": "adcdc401",
   "metadata": {},
   "source": [
    "## 2. Cleaning Data"
   ]
  },
  {
   "cell_type": "code",
   "execution_count": 5,
   "id": "ebedb1cc",
   "metadata": {},
   "outputs": [
    {
     "data": {
      "text/plain": [
       "Index(['Unnamed: 0', 'Location', 'Total Land Area (acres)', 'Number of Cows',\n",
       "       'Farm Size', 'Date', 'Product Name', 'Brand', 'Quantity (liters/kg)',\n",
       "       'Price per Unit', 'Total Value', 'Shelf Life (days)',\n",
       "       'Storage Condition', 'Production Date', 'Expiration Date',\n",
       "       'Quantity Sold (liters/kg)', 'Price per Unit (sold)',\n",
       "       'Approx. Total Revenue(INR)', 'Customer Location', 'Sales Channel',\n",
       "       'Quantity in Stock (liters/kg)', 'Minimum Stock Threshold (liters/kg)',\n",
       "       'Reorder Quantity (liters/kg)'],\n",
       "      dtype='object')"
      ]
     },
     "execution_count": 5,
     "metadata": {},
     "output_type": "execute_result"
    }
   ],
   "source": [
    "df.columns"
   ]
  },
  {
   "cell_type": "code",
   "execution_count": 6,
   "id": "08d450cc",
   "metadata": {},
   "outputs": [
    {
     "data": {
      "text/html": [
       "<div>\n",
       "<style scoped>\n",
       "    .dataframe tbody tr th:only-of-type {\n",
       "        vertical-align: middle;\n",
       "    }\n",
       "\n",
       "    .dataframe tbody tr th {\n",
       "        vertical-align: top;\n",
       "    }\n",
       "\n",
       "    .dataframe thead th {\n",
       "        text-align: right;\n",
       "    }\n",
       "</style>\n",
       "<table border=\"1\" class=\"dataframe\">\n",
       "  <thead>\n",
       "    <tr style=\"text-align: right;\">\n",
       "      <th></th>\n",
       "      <th>Unnamed: 0</th>\n",
       "      <th>Location</th>\n",
       "      <th>Total Land Area (acres)</th>\n",
       "      <th>Number of Cows</th>\n",
       "      <th>Farm Size</th>\n",
       "      <th>Date</th>\n",
       "      <th>Product Name</th>\n",
       "      <th>Brand</th>\n",
       "      <th>Quantity (liters/kg)</th>\n",
       "      <th>Price per Unit</th>\n",
       "      <th>...</th>\n",
       "      <th>Production Date</th>\n",
       "      <th>Expiration Date</th>\n",
       "      <th>Quantity Sold (liters/kg)</th>\n",
       "      <th>Price per Unit (sold)</th>\n",
       "      <th>Approx. Total Revenue(INR)</th>\n",
       "      <th>Customer Location</th>\n",
       "      <th>Sales Channel</th>\n",
       "      <th>Quantity in Stock (liters/kg)</th>\n",
       "      <th>Minimum Stock Threshold (liters/kg)</th>\n",
       "      <th>Reorder Quantity (liters/kg)</th>\n",
       "    </tr>\n",
       "  </thead>\n",
       "  <tbody>\n",
       "    <tr>\n",
       "      <th>0</th>\n",
       "      <td>0</td>\n",
       "      <td>Telangana</td>\n",
       "      <td>310.84</td>\n",
       "      <td>96</td>\n",
       "      <td>Medium</td>\n",
       "      <td>2/17/22</td>\n",
       "      <td>Ice Cream</td>\n",
       "      <td>Dodla Dairy</td>\n",
       "      <td>222.40</td>\n",
       "      <td>85.72</td>\n",
       "      <td>...</td>\n",
       "      <td>12/27/21</td>\n",
       "      <td>1/21/22</td>\n",
       "      <td>7</td>\n",
       "      <td>82.24</td>\n",
       "      <td>575.68</td>\n",
       "      <td>Madhya Pradesh</td>\n",
       "      <td>Wholesale</td>\n",
       "      <td>215</td>\n",
       "      <td>19.55</td>\n",
       "      <td>64.03</td>\n",
       "    </tr>\n",
       "    <tr>\n",
       "      <th>1</th>\n",
       "      <td>1</td>\n",
       "      <td>Uttar Pradesh</td>\n",
       "      <td>19.19</td>\n",
       "      <td>44</td>\n",
       "      <td>Large</td>\n",
       "      <td>12/1/21</td>\n",
       "      <td>Milk</td>\n",
       "      <td>Amul</td>\n",
       "      <td>687.48</td>\n",
       "      <td>42.61</td>\n",
       "      <td>...</td>\n",
       "      <td>10/3/21</td>\n",
       "      <td>10/25/21</td>\n",
       "      <td>558</td>\n",
       "      <td>39.24</td>\n",
       "      <td>21895.92</td>\n",
       "      <td>Kerala</td>\n",
       "      <td>Wholesale</td>\n",
       "      <td>129</td>\n",
       "      <td>43.17</td>\n",
       "      <td>181.10</td>\n",
       "    </tr>\n",
       "    <tr>\n",
       "      <th>2</th>\n",
       "      <td>2</td>\n",
       "      <td>Tamil Nadu</td>\n",
       "      <td>581.69</td>\n",
       "      <td>24</td>\n",
       "      <td>Medium</td>\n",
       "      <td>2/28/22</td>\n",
       "      <td>Yogurt</td>\n",
       "      <td>Dodla Dairy</td>\n",
       "      <td>503.48</td>\n",
       "      <td>36.50</td>\n",
       "      <td>...</td>\n",
       "      <td>1/14/22</td>\n",
       "      <td>2/13/22</td>\n",
       "      <td>256</td>\n",
       "      <td>33.81</td>\n",
       "      <td>8655.36</td>\n",
       "      <td>Madhya Pradesh</td>\n",
       "      <td>Online</td>\n",
       "      <td>247</td>\n",
       "      <td>15.10</td>\n",
       "      <td>140.83</td>\n",
       "    </tr>\n",
       "    <tr>\n",
       "      <th>3</th>\n",
       "      <td>3</td>\n",
       "      <td>Telangana</td>\n",
       "      <td>908.00</td>\n",
       "      <td>89</td>\n",
       "      <td>Small</td>\n",
       "      <td>6/9/19</td>\n",
       "      <td>Cheese</td>\n",
       "      <td>Britannia Industries</td>\n",
       "      <td>823.36</td>\n",
       "      <td>26.52</td>\n",
       "      <td>...</td>\n",
       "      <td>5/15/19</td>\n",
       "      <td>7/26/19</td>\n",
       "      <td>601</td>\n",
       "      <td>28.92</td>\n",
       "      <td>17380.92</td>\n",
       "      <td>Rajasthan</td>\n",
       "      <td>Online</td>\n",
       "      <td>222</td>\n",
       "      <td>74.50</td>\n",
       "      <td>57.68</td>\n",
       "    </tr>\n",
       "    <tr>\n",
       "      <th>4</th>\n",
       "      <td>4</td>\n",
       "      <td>Maharashtra</td>\n",
       "      <td>861.95</td>\n",
       "      <td>21</td>\n",
       "      <td>Medium</td>\n",
       "      <td>12/14/20</td>\n",
       "      <td>Buttermilk</td>\n",
       "      <td>Mother Dairy</td>\n",
       "      <td>147.77</td>\n",
       "      <td>83.85</td>\n",
       "      <td>...</td>\n",
       "      <td>10/17/20</td>\n",
       "      <td>10/28/20</td>\n",
       "      <td>145</td>\n",
       "      <td>83.07</td>\n",
       "      <td>12045.15</td>\n",
       "      <td>Jharkhand</td>\n",
       "      <td>Retail</td>\n",
       "      <td>2</td>\n",
       "      <td>76.02</td>\n",
       "      <td>33.40</td>\n",
       "    </tr>\n",
       "    <tr>\n",
       "      <th>5</th>\n",
       "      <td>5</td>\n",
       "      <td>Telangana</td>\n",
       "      <td>87.64</td>\n",
       "      <td>51</td>\n",
       "      <td>Medium</td>\n",
       "      <td>1/7/19</td>\n",
       "      <td>Curd</td>\n",
       "      <td>Raj</td>\n",
       "      <td>593.92</td>\n",
       "      <td>85.54</td>\n",
       "      <td>...</td>\n",
       "      <td>1/3/19</td>\n",
       "      <td>1/8/19</td>\n",
       "      <td>74</td>\n",
       "      <td>84.75</td>\n",
       "      <td>6271.50</td>\n",
       "      <td>Gujarat</td>\n",
       "      <td>Retail</td>\n",
       "      <td>519</td>\n",
       "      <td>55.60</td>\n",
       "      <td>139.59</td>\n",
       "    </tr>\n",
       "    <tr>\n",
       "      <th>6</th>\n",
       "      <td>6</td>\n",
       "      <td>Karnataka</td>\n",
       "      <td>73.28</td>\n",
       "      <td>74</td>\n",
       "      <td>Small</td>\n",
       "      <td>8/5/22</td>\n",
       "      <td>Cheese</td>\n",
       "      <td>Dynamix Dairies</td>\n",
       "      <td>757.14</td>\n",
       "      <td>36.83</td>\n",
       "      <td>...</td>\n",
       "      <td>6/14/22</td>\n",
       "      <td>9/5/22</td>\n",
       "      <td>410</td>\n",
       "      <td>32.66</td>\n",
       "      <td>13390.60</td>\n",
       "      <td>Karnataka</td>\n",
       "      <td>Online</td>\n",
       "      <td>347</td>\n",
       "      <td>49.82</td>\n",
       "      <td>105.86</td>\n",
       "    </tr>\n",
       "    <tr>\n",
       "      <th>7</th>\n",
       "      <td>7</td>\n",
       "      <td>Bihar</td>\n",
       "      <td>67.61</td>\n",
       "      <td>77</td>\n",
       "      <td>Medium</td>\n",
       "      <td>2/14/19</td>\n",
       "      <td>Paneer</td>\n",
       "      <td>Mother Dairy</td>\n",
       "      <td>203.36</td>\n",
       "      <td>29.08</td>\n",
       "      <td>...</td>\n",
       "      <td>1/6/19</td>\n",
       "      <td>1/20/19</td>\n",
       "      <td>15</td>\n",
       "      <td>29.09</td>\n",
       "      <td>436.35</td>\n",
       "      <td>Haryana</td>\n",
       "      <td>Online</td>\n",
       "      <td>188</td>\n",
       "      <td>10.90</td>\n",
       "      <td>25.14</td>\n",
       "    </tr>\n",
       "    <tr>\n",
       "      <th>8</th>\n",
       "      <td>8</td>\n",
       "      <td>West Bengal</td>\n",
       "      <td>72.31</td>\n",
       "      <td>76</td>\n",
       "      <td>Medium</td>\n",
       "      <td>8/2/20</td>\n",
       "      <td>Curd</td>\n",
       "      <td>Raj</td>\n",
       "      <td>949.12</td>\n",
       "      <td>22.79</td>\n",
       "      <td>...</td>\n",
       "      <td>6/6/20</td>\n",
       "      <td>6/12/20</td>\n",
       "      <td>860</td>\n",
       "      <td>24.77</td>\n",
       "      <td>21302.20</td>\n",
       "      <td>Jharkhand</td>\n",
       "      <td>Wholesale</td>\n",
       "      <td>89</td>\n",
       "      <td>85.71</td>\n",
       "      <td>32.03</td>\n",
       "    </tr>\n",
       "    <tr>\n",
       "      <th>9</th>\n",
       "      <td>9</td>\n",
       "      <td>Telangana</td>\n",
       "      <td>413.24</td>\n",
       "      <td>36</td>\n",
       "      <td>Large</td>\n",
       "      <td>3/4/22</td>\n",
       "      <td>Buttermilk</td>\n",
       "      <td>Mother Dairy</td>\n",
       "      <td>385.64</td>\n",
       "      <td>42.08</td>\n",
       "      <td>...</td>\n",
       "      <td>2/3/22</td>\n",
       "      <td>2/12/22</td>\n",
       "      <td>108</td>\n",
       "      <td>46.15</td>\n",
       "      <td>4984.20</td>\n",
       "      <td>Tamil Nadu</td>\n",
       "      <td>Retail</td>\n",
       "      <td>277</td>\n",
       "      <td>93.61</td>\n",
       "      <td>66.26</td>\n",
       "    </tr>\n",
       "    <tr>\n",
       "      <th>10</th>\n",
       "      <td>10</td>\n",
       "      <td>Madhya Pradesh</td>\n",
       "      <td>867.78</td>\n",
       "      <td>82</td>\n",
       "      <td>Small</td>\n",
       "      <td>12/22/21</td>\n",
       "      <td>Yogurt</td>\n",
       "      <td>Dodla Dairy</td>\n",
       "      <td>52.62</td>\n",
       "      <td>67.23</td>\n",
       "      <td>...</td>\n",
       "      <td>11/2/21</td>\n",
       "      <td>11/26/21</td>\n",
       "      <td>22</td>\n",
       "      <td>68.09</td>\n",
       "      <td>1497.98</td>\n",
       "      <td>Kerala</td>\n",
       "      <td>Wholesale</td>\n",
       "      <td>30</td>\n",
       "      <td>81.34</td>\n",
       "      <td>118.57</td>\n",
       "    </tr>\n",
       "    <tr>\n",
       "      <th>11</th>\n",
       "      <td>11</td>\n",
       "      <td>Chandigarh</td>\n",
       "      <td>648.52</td>\n",
       "      <td>99</td>\n",
       "      <td>Small</td>\n",
       "      <td>10/14/20</td>\n",
       "      <td>Lassi</td>\n",
       "      <td>Sudha</td>\n",
       "      <td>653.04</td>\n",
       "      <td>84.60</td>\n",
       "      <td>...</td>\n",
       "      <td>8/22/20</td>\n",
       "      <td>9/5/20</td>\n",
       "      <td>345</td>\n",
       "      <td>88.05</td>\n",
       "      <td>30377.25</td>\n",
       "      <td>Karnataka</td>\n",
       "      <td>Online</td>\n",
       "      <td>308</td>\n",
       "      <td>26.65</td>\n",
       "      <td>24.68</td>\n",
       "    </tr>\n",
       "    <tr>\n",
       "      <th>12</th>\n",
       "      <td>12</td>\n",
       "      <td>Delhi</td>\n",
       "      <td>236.72</td>\n",
       "      <td>81</td>\n",
       "      <td>Large</td>\n",
       "      <td>2/18/20</td>\n",
       "      <td>Cheese</td>\n",
       "      <td>Passion Cheese</td>\n",
       "      <td>12.39</td>\n",
       "      <td>58.28</td>\n",
       "      <td>...</td>\n",
       "      <td>1/18/20</td>\n",
       "      <td>3/27/20</td>\n",
       "      <td>1</td>\n",
       "      <td>58.09</td>\n",
       "      <td>58.09</td>\n",
       "      <td>West Bengal</td>\n",
       "      <td>Retail</td>\n",
       "      <td>11</td>\n",
       "      <td>31.99</td>\n",
       "      <td>69.19</td>\n",
       "    </tr>\n",
       "    <tr>\n",
       "      <th>13</th>\n",
       "      <td>13</td>\n",
       "      <td>Telangana</td>\n",
       "      <td>856.00</td>\n",
       "      <td>39</td>\n",
       "      <td>Large</td>\n",
       "      <td>12/26/19</td>\n",
       "      <td>Ice Cream</td>\n",
       "      <td>Mother Dairy</td>\n",
       "      <td>612.16</td>\n",
       "      <td>94.43</td>\n",
       "      <td>...</td>\n",
       "      <td>12/15/19</td>\n",
       "      <td>1/9/20</td>\n",
       "      <td>80</td>\n",
       "      <td>94.32</td>\n",
       "      <td>7545.60</td>\n",
       "      <td>Madhya Pradesh</td>\n",
       "      <td>Online</td>\n",
       "      <td>532</td>\n",
       "      <td>47.95</td>\n",
       "      <td>198.99</td>\n",
       "    </tr>\n",
       "    <tr>\n",
       "      <th>14</th>\n",
       "      <td>14</td>\n",
       "      <td>Gujarat</td>\n",
       "      <td>182.28</td>\n",
       "      <td>70</td>\n",
       "      <td>Medium</td>\n",
       "      <td>4/10/22</td>\n",
       "      <td>Ice Cream</td>\n",
       "      <td>Dodla Dairy</td>\n",
       "      <td>797.69</td>\n",
       "      <td>88.66</td>\n",
       "      <td>...</td>\n",
       "      <td>3/26/22</td>\n",
       "      <td>4/23/22</td>\n",
       "      <td>645</td>\n",
       "      <td>93.51</td>\n",
       "      <td>60313.95</td>\n",
       "      <td>Karnataka</td>\n",
       "      <td>Retail</td>\n",
       "      <td>152</td>\n",
       "      <td>83.86</td>\n",
       "      <td>144.30</td>\n",
       "    </tr>\n",
       "    <tr>\n",
       "      <th>15</th>\n",
       "      <td>15</td>\n",
       "      <td>Kerala</td>\n",
       "      <td>14.97</td>\n",
       "      <td>71</td>\n",
       "      <td>Small</td>\n",
       "      <td>2/22/20</td>\n",
       "      <td>Milk</td>\n",
       "      <td>Mother Dairy</td>\n",
       "      <td>821.52</td>\n",
       "      <td>11.58</td>\n",
       "      <td>...</td>\n",
       "      <td>1/31/20</td>\n",
       "      <td>2/1/20</td>\n",
       "      <td>778</td>\n",
       "      <td>8.69</td>\n",
       "      <td>6760.82</td>\n",
       "      <td>Gujarat</td>\n",
       "      <td>Retail</td>\n",
       "      <td>43</td>\n",
       "      <td>89.45</td>\n",
       "      <td>28.11</td>\n",
       "    </tr>\n",
       "    <tr>\n",
       "      <th>16</th>\n",
       "      <td>16</td>\n",
       "      <td>Madhya Pradesh</td>\n",
       "      <td>233.62</td>\n",
       "      <td>95</td>\n",
       "      <td>Large</td>\n",
       "      <td>12/17/22</td>\n",
       "      <td>Ghee</td>\n",
       "      <td>Mother Dairy</td>\n",
       "      <td>663.34</td>\n",
       "      <td>48.83</td>\n",
       "      <td>...</td>\n",
       "      <td>11/26/22</td>\n",
       "      <td>4/13/23</td>\n",
       "      <td>438</td>\n",
       "      <td>52.79</td>\n",
       "      <td>23122.02</td>\n",
       "      <td>Tamil Nadu</td>\n",
       "      <td>Retail</td>\n",
       "      <td>225</td>\n",
       "      <td>86.28</td>\n",
       "      <td>91.70</td>\n",
       "    </tr>\n",
       "    <tr>\n",
       "      <th>17</th>\n",
       "      <td>17</td>\n",
       "      <td>Kerala</td>\n",
       "      <td>412.69</td>\n",
       "      <td>88</td>\n",
       "      <td>Medium</td>\n",
       "      <td>6/24/20</td>\n",
       "      <td>Curd</td>\n",
       "      <td>Amul</td>\n",
       "      <td>385.41</td>\n",
       "      <td>26.18</td>\n",
       "      <td>...</td>\n",
       "      <td>5/8/20</td>\n",
       "      <td>5/14/20</td>\n",
       "      <td>270</td>\n",
       "      <td>30.27</td>\n",
       "      <td>8172.90</td>\n",
       "      <td>Madhya Pradesh</td>\n",
       "      <td>Online</td>\n",
       "      <td>115</td>\n",
       "      <td>52.16</td>\n",
       "      <td>20.14</td>\n",
       "    </tr>\n",
       "    <tr>\n",
       "      <th>18</th>\n",
       "      <td>18</td>\n",
       "      <td>Madhya Pradesh</td>\n",
       "      <td>420.85</td>\n",
       "      <td>25</td>\n",
       "      <td>Large</td>\n",
       "      <td>1/19/20</td>\n",
       "      <td>Buttermilk</td>\n",
       "      <td>Amul</td>\n",
       "      <td>367.14</td>\n",
       "      <td>41.05</td>\n",
       "      <td>...</td>\n",
       "      <td>12/1/19</td>\n",
       "      <td>12/11/19</td>\n",
       "      <td>309</td>\n",
       "      <td>40.75</td>\n",
       "      <td>12591.75</td>\n",
       "      <td>West Bengal</td>\n",
       "      <td>Online</td>\n",
       "      <td>58</td>\n",
       "      <td>37.27</td>\n",
       "      <td>79.56</td>\n",
       "    </tr>\n",
       "    <tr>\n",
       "      <th>19</th>\n",
       "      <td>19</td>\n",
       "      <td>Tamil Nadu</td>\n",
       "      <td>534.50</td>\n",
       "      <td>52</td>\n",
       "      <td>Medium</td>\n",
       "      <td>6/15/21</td>\n",
       "      <td>Milk</td>\n",
       "      <td>Amul</td>\n",
       "      <td>896.89</td>\n",
       "      <td>93.72</td>\n",
       "      <td>...</td>\n",
       "      <td>5/22/21</td>\n",
       "      <td>6/19/21</td>\n",
       "      <td>486</td>\n",
       "      <td>96.08</td>\n",
       "      <td>46694.88</td>\n",
       "      <td>Telangana</td>\n",
       "      <td>Wholesale</td>\n",
       "      <td>410</td>\n",
       "      <td>26.87</td>\n",
       "      <td>92.23</td>\n",
       "    </tr>\n",
       "  </tbody>\n",
       "</table>\n",
       "<p>20 rows × 23 columns</p>\n",
       "</div>"
      ],
      "text/plain": [
       "    Unnamed: 0        Location  Total Land Area (acres)  Number of Cows  \\\n",
       "0            0       Telangana                   310.84              96   \n",
       "1            1   Uttar Pradesh                    19.19              44   \n",
       "2            2      Tamil Nadu                   581.69              24   \n",
       "3            3       Telangana                   908.00              89   \n",
       "4            4     Maharashtra                   861.95              21   \n",
       "5            5       Telangana                    87.64              51   \n",
       "6            6       Karnataka                    73.28              74   \n",
       "7            7           Bihar                    67.61              77   \n",
       "8            8     West Bengal                    72.31              76   \n",
       "9            9       Telangana                   413.24              36   \n",
       "10          10  Madhya Pradesh                   867.78              82   \n",
       "11          11      Chandigarh                   648.52              99   \n",
       "12          12           Delhi                   236.72              81   \n",
       "13          13       Telangana                   856.00              39   \n",
       "14          14         Gujarat                   182.28              70   \n",
       "15          15          Kerala                    14.97              71   \n",
       "16          16  Madhya Pradesh                   233.62              95   \n",
       "17          17          Kerala                   412.69              88   \n",
       "18          18  Madhya Pradesh                   420.85              25   \n",
       "19          19      Tamil Nadu                   534.50              52   \n",
       "\n",
       "   Farm Size      Date Product Name                 Brand  \\\n",
       "0     Medium   2/17/22    Ice Cream           Dodla Dairy   \n",
       "1      Large   12/1/21         Milk                  Amul   \n",
       "2     Medium   2/28/22       Yogurt           Dodla Dairy   \n",
       "3      Small    6/9/19       Cheese  Britannia Industries   \n",
       "4     Medium  12/14/20   Buttermilk          Mother Dairy   \n",
       "5     Medium    1/7/19         Curd                   Raj   \n",
       "6      Small    8/5/22       Cheese       Dynamix Dairies   \n",
       "7     Medium   2/14/19       Paneer          Mother Dairy   \n",
       "8     Medium    8/2/20         Curd                   Raj   \n",
       "9      Large    3/4/22   Buttermilk          Mother Dairy   \n",
       "10     Small  12/22/21       Yogurt           Dodla Dairy   \n",
       "11     Small  10/14/20        Lassi                 Sudha   \n",
       "12     Large   2/18/20       Cheese        Passion Cheese   \n",
       "13     Large  12/26/19    Ice Cream          Mother Dairy   \n",
       "14    Medium   4/10/22    Ice Cream           Dodla Dairy   \n",
       "15     Small   2/22/20         Milk          Mother Dairy   \n",
       "16     Large  12/17/22         Ghee          Mother Dairy   \n",
       "17    Medium   6/24/20         Curd                  Amul   \n",
       "18     Large   1/19/20   Buttermilk                  Amul   \n",
       "19    Medium   6/15/21         Milk                  Amul   \n",
       "\n",
       "    Quantity (liters/kg)  Price per Unit  ...  Production Date  \\\n",
       "0                 222.40           85.72  ...         12/27/21   \n",
       "1                 687.48           42.61  ...          10/3/21   \n",
       "2                 503.48           36.50  ...          1/14/22   \n",
       "3                 823.36           26.52  ...          5/15/19   \n",
       "4                 147.77           83.85  ...         10/17/20   \n",
       "5                 593.92           85.54  ...           1/3/19   \n",
       "6                 757.14           36.83  ...          6/14/22   \n",
       "7                 203.36           29.08  ...           1/6/19   \n",
       "8                 949.12           22.79  ...           6/6/20   \n",
       "9                 385.64           42.08  ...           2/3/22   \n",
       "10                 52.62           67.23  ...          11/2/21   \n",
       "11                653.04           84.60  ...          8/22/20   \n",
       "12                 12.39           58.28  ...          1/18/20   \n",
       "13                612.16           94.43  ...         12/15/19   \n",
       "14                797.69           88.66  ...          3/26/22   \n",
       "15                821.52           11.58  ...          1/31/20   \n",
       "16                663.34           48.83  ...         11/26/22   \n",
       "17                385.41           26.18  ...           5/8/20   \n",
       "18                367.14           41.05  ...          12/1/19   \n",
       "19                896.89           93.72  ...          5/22/21   \n",
       "\n",
       "    Expiration Date Quantity Sold (liters/kg) Price per Unit (sold)  \\\n",
       "0           1/21/22                         7                 82.24   \n",
       "1          10/25/21                       558                 39.24   \n",
       "2           2/13/22                       256                 33.81   \n",
       "3           7/26/19                       601                 28.92   \n",
       "4          10/28/20                       145                 83.07   \n",
       "5            1/8/19                        74                 84.75   \n",
       "6            9/5/22                       410                 32.66   \n",
       "7           1/20/19                        15                 29.09   \n",
       "8           6/12/20                       860                 24.77   \n",
       "9           2/12/22                       108                 46.15   \n",
       "10         11/26/21                        22                 68.09   \n",
       "11           9/5/20                       345                 88.05   \n",
       "12          3/27/20                         1                 58.09   \n",
       "13           1/9/20                        80                 94.32   \n",
       "14          4/23/22                       645                 93.51   \n",
       "15           2/1/20                       778                  8.69   \n",
       "16          4/13/23                       438                 52.79   \n",
       "17          5/14/20                       270                 30.27   \n",
       "18         12/11/19                       309                 40.75   \n",
       "19          6/19/21                       486                 96.08   \n",
       "\n",
       "   Approx. Total Revenue(INR)  Customer Location  Sales Channel  \\\n",
       "0                      575.68     Madhya Pradesh      Wholesale   \n",
       "1                    21895.92             Kerala      Wholesale   \n",
       "2                     8655.36     Madhya Pradesh         Online   \n",
       "3                    17380.92          Rajasthan         Online   \n",
       "4                    12045.15          Jharkhand         Retail   \n",
       "5                     6271.50            Gujarat         Retail   \n",
       "6                    13390.60          Karnataka         Online   \n",
       "7                      436.35            Haryana         Online   \n",
       "8                    21302.20          Jharkhand      Wholesale   \n",
       "9                     4984.20         Tamil Nadu         Retail   \n",
       "10                    1497.98             Kerala      Wholesale   \n",
       "11                   30377.25          Karnataka         Online   \n",
       "12                      58.09        West Bengal         Retail   \n",
       "13                    7545.60     Madhya Pradesh         Online   \n",
       "14                   60313.95          Karnataka         Retail   \n",
       "15                    6760.82            Gujarat         Retail   \n",
       "16                   23122.02         Tamil Nadu         Retail   \n",
       "17                    8172.90     Madhya Pradesh         Online   \n",
       "18                   12591.75        West Bengal         Online   \n",
       "19                   46694.88          Telangana      Wholesale   \n",
       "\n",
       "    Quantity in Stock (liters/kg) Minimum Stock Threshold (liters/kg)  \\\n",
       "0                             215                               19.55   \n",
       "1                             129                               43.17   \n",
       "2                             247                               15.10   \n",
       "3                             222                               74.50   \n",
       "4                               2                               76.02   \n",
       "5                             519                               55.60   \n",
       "6                             347                               49.82   \n",
       "7                             188                               10.90   \n",
       "8                              89                               85.71   \n",
       "9                             277                               93.61   \n",
       "10                             30                               81.34   \n",
       "11                            308                               26.65   \n",
       "12                             11                               31.99   \n",
       "13                            532                               47.95   \n",
       "14                            152                               83.86   \n",
       "15                             43                               89.45   \n",
       "16                            225                               86.28   \n",
       "17                            115                               52.16   \n",
       "18                             58                               37.27   \n",
       "19                            410                               26.87   \n",
       "\n",
       "   Reorder Quantity (liters/kg)  \n",
       "0                         64.03  \n",
       "1                        181.10  \n",
       "2                        140.83  \n",
       "3                         57.68  \n",
       "4                         33.40  \n",
       "5                        139.59  \n",
       "6                        105.86  \n",
       "7                         25.14  \n",
       "8                         32.03  \n",
       "9                         66.26  \n",
       "10                       118.57  \n",
       "11                        24.68  \n",
       "12                        69.19  \n",
       "13                       198.99  \n",
       "14                       144.30  \n",
       "15                        28.11  \n",
       "16                        91.70  \n",
       "17                        20.14  \n",
       "18                        79.56  \n",
       "19                        92.23  \n",
       "\n",
       "[20 rows x 23 columns]"
      ]
     },
     "execution_count": 6,
     "metadata": {},
     "output_type": "execute_result"
    }
   ],
   "source": [
    "df.head(20)"
   ]
  },
  {
   "cell_type": "code",
   "execution_count": 7,
   "id": "a3828445",
   "metadata": {},
   "outputs": [
    {
     "data": {
      "text/plain": [
       "(4325, 23)"
      ]
     },
     "execution_count": 7,
     "metadata": {},
     "output_type": "execute_result"
    }
   ],
   "source": [
    "df.shape"
   ]
  },
  {
   "cell_type": "code",
   "execution_count": 8,
   "id": "e6171e0c",
   "metadata": {},
   "outputs": [],
   "source": [
    "# Drop column 'Unnamed: 0'\n",
    "df = df.drop(columns=['Unnamed: 0'])"
   ]
  },
  {
   "cell_type": "code",
   "execution_count": 9,
   "id": "318d4806",
   "metadata": {},
   "outputs": [
    {
     "data": {
      "text/plain": [
       "(4325, 22)"
      ]
     },
     "execution_count": 9,
     "metadata": {},
     "output_type": "execute_result"
    }
   ],
   "source": [
    "df.shape"
   ]
  },
  {
   "cell_type": "code",
   "execution_count": 10,
   "id": "fb049c33",
   "metadata": {},
   "outputs": [
    {
     "data": {
      "text/html": [
       "<div>\n",
       "<style scoped>\n",
       "    .dataframe tbody tr th:only-of-type {\n",
       "        vertical-align: middle;\n",
       "    }\n",
       "\n",
       "    .dataframe tbody tr th {\n",
       "        vertical-align: top;\n",
       "    }\n",
       "\n",
       "    .dataframe thead th {\n",
       "        text-align: right;\n",
       "    }\n",
       "</style>\n",
       "<table border=\"1\" class=\"dataframe\">\n",
       "  <thead>\n",
       "    <tr style=\"text-align: right;\">\n",
       "      <th></th>\n",
       "      <th>Location</th>\n",
       "      <th>Total Land Area (acres)</th>\n",
       "      <th>Number of Cows</th>\n",
       "      <th>Farm Size</th>\n",
       "      <th>Date</th>\n",
       "      <th>Product Name</th>\n",
       "      <th>Brand</th>\n",
       "      <th>Quantity (liters/kg)</th>\n",
       "      <th>Price per Unit</th>\n",
       "      <th>Total Value</th>\n",
       "      <th>...</th>\n",
       "      <th>Production Date</th>\n",
       "      <th>Expiration Date</th>\n",
       "      <th>Quantity Sold (liters/kg)</th>\n",
       "      <th>Price per Unit (sold)</th>\n",
       "      <th>Approx. Total Revenue(INR)</th>\n",
       "      <th>Customer Location</th>\n",
       "      <th>Sales Channel</th>\n",
       "      <th>Quantity in Stock (liters/kg)</th>\n",
       "      <th>Minimum Stock Threshold (liters/kg)</th>\n",
       "      <th>Reorder Quantity (liters/kg)</th>\n",
       "    </tr>\n",
       "  </thead>\n",
       "  <tbody>\n",
       "    <tr>\n",
       "      <th>0</th>\n",
       "      <td>Telangana</td>\n",
       "      <td>310.84</td>\n",
       "      <td>96</td>\n",
       "      <td>Medium</td>\n",
       "      <td>2/17/22</td>\n",
       "      <td>Ice Cream</td>\n",
       "      <td>Dodla Dairy</td>\n",
       "      <td>222.40</td>\n",
       "      <td>85.72</td>\n",
       "      <td>19064.1280</td>\n",
       "      <td>...</td>\n",
       "      <td>12/27/21</td>\n",
       "      <td>1/21/22</td>\n",
       "      <td>7</td>\n",
       "      <td>82.24</td>\n",
       "      <td>575.68</td>\n",
       "      <td>Madhya Pradesh</td>\n",
       "      <td>Wholesale</td>\n",
       "      <td>215</td>\n",
       "      <td>19.55</td>\n",
       "      <td>64.03</td>\n",
       "    </tr>\n",
       "    <tr>\n",
       "      <th>1</th>\n",
       "      <td>Uttar Pradesh</td>\n",
       "      <td>19.19</td>\n",
       "      <td>44</td>\n",
       "      <td>Large</td>\n",
       "      <td>12/1/21</td>\n",
       "      <td>Milk</td>\n",
       "      <td>Amul</td>\n",
       "      <td>687.48</td>\n",
       "      <td>42.61</td>\n",
       "      <td>29293.5228</td>\n",
       "      <td>...</td>\n",
       "      <td>10/3/21</td>\n",
       "      <td>10/25/21</td>\n",
       "      <td>558</td>\n",
       "      <td>39.24</td>\n",
       "      <td>21895.92</td>\n",
       "      <td>Kerala</td>\n",
       "      <td>Wholesale</td>\n",
       "      <td>129</td>\n",
       "      <td>43.17</td>\n",
       "      <td>181.10</td>\n",
       "    </tr>\n",
       "  </tbody>\n",
       "</table>\n",
       "<p>2 rows × 22 columns</p>\n",
       "</div>"
      ],
      "text/plain": [
       "        Location  Total Land Area (acres)  Number of Cows Farm Size     Date  \\\n",
       "0      Telangana                   310.84              96    Medium  2/17/22   \n",
       "1  Uttar Pradesh                    19.19              44     Large  12/1/21   \n",
       "\n",
       "  Product Name        Brand  Quantity (liters/kg)  Price per Unit  \\\n",
       "0    Ice Cream  Dodla Dairy                222.40           85.72   \n",
       "1         Milk         Amul                687.48           42.61   \n",
       "\n",
       "   Total Value  ...  Production Date Expiration Date  \\\n",
       "0   19064.1280  ...         12/27/21         1/21/22   \n",
       "1   29293.5228  ...          10/3/21        10/25/21   \n",
       "\n",
       "  Quantity Sold (liters/kg) Price per Unit (sold)  Approx. Total Revenue(INR)  \\\n",
       "0                         7                 82.24                      575.68   \n",
       "1                       558                 39.24                    21895.92   \n",
       "\n",
       "   Customer Location  Sales Channel Quantity in Stock (liters/kg)  \\\n",
       "0     Madhya Pradesh      Wholesale                           215   \n",
       "1             Kerala      Wholesale                           129   \n",
       "\n",
       "  Minimum Stock Threshold (liters/kg)  Reorder Quantity (liters/kg)  \n",
       "0                               19.55                         64.03  \n",
       "1                               43.17                        181.10  \n",
       "\n",
       "[2 rows x 22 columns]"
      ]
     },
     "execution_count": 10,
     "metadata": {},
     "output_type": "execute_result"
    }
   ],
   "source": [
    "df.head(2)"
   ]
  },
  {
   "cell_type": "code",
   "execution_count": 11,
   "id": "f17b162c",
   "metadata": {},
   "outputs": [],
   "source": [
    "df.to_csv(os.path.join(path, '02 Data','Prepared Data', 'dairy_wrangled.csv'))"
   ]
  },
  {
   "cell_type": "markdown",
   "id": "351fd9e8",
   "metadata": {},
   "source": [
    "### Missing Values"
   ]
  },
  {
   "cell_type": "code",
   "execution_count": 12,
   "id": "07632466",
   "metadata": {},
   "outputs": [
    {
     "data": {
      "text/plain": [
       "Location                               0\n",
       "Total Land Area (acres)                0\n",
       "Number of Cows                         0\n",
       "Farm Size                              0\n",
       "Date                                   0\n",
       "Product Name                           0\n",
       "Brand                                  0\n",
       "Quantity (liters/kg)                   0\n",
       "Price per Unit                         0\n",
       "Total Value                            0\n",
       "Shelf Life (days)                      0\n",
       "Storage Condition                      0\n",
       "Production Date                        0\n",
       "Expiration Date                        0\n",
       "Quantity Sold (liters/kg)              0\n",
       "Price per Unit (sold)                  0\n",
       "Approx. Total Revenue(INR)             0\n",
       "Customer Location                      0\n",
       "Sales Channel                          0\n",
       "Quantity in Stock (liters/kg)          0\n",
       "Minimum Stock Threshold (liters/kg)    0\n",
       "Reorder Quantity (liters/kg)           0\n",
       "dtype: int64"
      ]
     },
     "execution_count": 12,
     "metadata": {},
     "output_type": "execute_result"
    }
   ],
   "source": [
    "# Check for missing values\n",
    "\n",
    "df.isnull().sum()"
   ]
  },
  {
   "cell_type": "markdown",
   "id": "6167ac63",
   "metadata": {},
   "source": [
    "#### No missing values"
   ]
  },
  {
   "cell_type": "markdown",
   "id": "88600288",
   "metadata": {},
   "source": [
    "### Duplicates Check"
   ]
  },
  {
   "cell_type": "code",
   "execution_count": 13,
   "id": "18e7c78e",
   "metadata": {},
   "outputs": [],
   "source": [
    "dups = df.duplicated()"
   ]
  },
  {
   "cell_type": "code",
   "execution_count": 14,
   "id": "13494f0f",
   "metadata": {},
   "outputs": [
    {
     "data": {
      "text/plain": [
       "(4325,)"
      ]
     },
     "execution_count": 14,
     "metadata": {},
     "output_type": "execute_result"
    }
   ],
   "source": [
    "dups.shape"
   ]
  },
  {
   "cell_type": "markdown",
   "id": "054a2043",
   "metadata": {},
   "source": [
    "#### No duplicates"
   ]
  },
  {
   "cell_type": "markdown",
   "id": "deb842b1",
   "metadata": {},
   "source": [
    "## 3. Data Prep for Regression Analysis"
   ]
  },
  {
   "cell_type": "markdown",
   "id": "38436981",
   "metadata": {},
   "source": [
    "### Products"
   ]
  },
  {
   "cell_type": "markdown",
   "id": "f0c5f77c",
   "metadata": {},
   "source": [
    "Hypothesis 1\n",
    "\n",
    "- The price per unit of different products is influenced by their shelf life."
   ]
  },
  {
   "cell_type": "code",
   "execution_count": 15,
   "id": "aa6a5ff1",
   "metadata": {},
   "outputs": [
    {
     "name": "stdout",
     "output_type": "stream",
     "text": [
      "Shelf Life (days)  1    2    5    6    7    8    9    10   11   12   ...  141  \\\n",
      "Price per Unit                                                       ...        \n",
      "10.03                0    0    0    0    0    0    0    0    0    0  ...    0   \n",
      "10.05                0    0    0    0    0    0    0    0    0    0  ...    0   \n",
      "10.09                1    0    0    0    0    0    0    0    0    0  ...    0   \n",
      "10.11                0    0    0    0    0    0    0    1    0    0  ...    0   \n",
      "10.15                0    0    0    0    0    0    0    0    0    0  ...    0   \n",
      "...                ...  ...  ...  ...  ...  ...  ...  ...  ...  ...  ...  ...   \n",
      "99.78                0    0    0    0    2    0    0    0    0    0  ...    0   \n",
      "99.84                0    0    0    0    0    0    0    0    0    0  ...    0   \n",
      "99.94                0    0    0    0    0    0    0    0    0    0  ...    0   \n",
      "99.96                0    0    0    0    0    0    0    0    0    0  ...    0   \n",
      "99.99                0    0    0    0    0    0    0    0    0    0  ...    0   \n",
      "\n",
      "Shelf Life (days)  142  143  144  145  146  147  148  149  150  \n",
      "Price per Unit                                                  \n",
      "10.03                0    0    0    0    0    0    0    0    0  \n",
      "10.05                0    0    0    0    0    0    0    0    0  \n",
      "10.09                0    0    0    0    0    0    0    0    0  \n",
      "10.11                0    0    0    0    0    0    0    0    0  \n",
      "10.15                0    0    0    0    0    0    0    0    0  \n",
      "...                ...  ...  ...  ...  ...  ...  ...  ...  ...  \n",
      "99.78                0    0    0    0    0    0    0    0    0  \n",
      "99.84                0    0    0    0    0    0    0    0    0  \n",
      "99.94                0    0    0    0    0    0    0    0    0  \n",
      "99.96                0    0    0    0    0    0    0    0    0  \n",
      "99.99                0    0    0    0    0    0    0    0    0  \n",
      "\n",
      "[3409 rows x 146 columns]\n",
      "Chi2: 498040.0368279773, p-value: 4.942478971920301e-05\n"
     ]
    }
   ],
   "source": [
    "# Initial analysis\n",
    "\n",
    "from scipy.stats import chi2_contingency\n",
    "\n",
    "# Contingency table\n",
    "contingency_table_products1 = pd.crosstab(df['Price per Unit'], df['Shelf Life (days)'])\n",
    "print(contingency_table_products1)\n",
    "\n",
    "# Chi-Square Test\n",
    "chi2, p, dof, expected = chi2_contingency(contingency_table_products1)\n",
    "print(f\"Chi2: {chi2}, p-value: {p}\")"
   ]
  },
  {
   "cell_type": "markdown",
   "id": "74a2c1bb",
   "metadata": {},
   "source": [
    "#### The p-value (0.0000494) is much smaller than the significance level (0.05).\n",
    "#### Therefore, we reject the null hypothesis.\n",
    "#### There is strong evidence to suggest a significant association between Price per Unit and Shelf Life (days) at the 0.05 significance level."
   ]
  },
  {
   "cell_type": "code",
   "execution_count": 16,
   "id": "9a22c8e1",
   "metadata": {
    "scrolled": false
   },
   "outputs": [
    {
     "data": {
      "image/png": "[encoded data removed]",
      "text/plain": [
       "<Figure size 640x480 with 1 Axes>"
      ]
     },
     "metadata": {},
     "output_type": "display_data"
    }
   ],
   "source": [
    "# Create a scatterplot using matplotlib for another look at how the chosen variables plot against each other.\n",
    "\n",
    "df.plot(x = 'Shelf Life (days)', y='Price per Unit',style='o') # The style option creates a scatterplot; without it, we only have lines.\n",
    "plt.title('Shelf Life (days) vs Price per Unit')  \n",
    "plt.xlabel('Shelf Life (days)')  \n",
    "plt.ylabel('Price per Unit')  \n",
    "plt.show()"
   ]
  },
  {
   "cell_type": "code",
   "execution_count": 17,
   "id": "d39ed8f6",
   "metadata": {},
   "outputs": [],
   "source": [
    "# The scatterplot does not indicate a linear relationship"
   ]
  },
  {
   "cell_type": "code",
   "execution_count": 18,
   "id": "5d6f7723",
   "metadata": {},
   "outputs": [],
   "source": [
    "# Reshape the variables into NumPy arrays and put them into separate objects.\n",
    "\n",
    "X = df['Shelf Life (days)'].values.reshape(-1,1)\n",
    "y = df['Price per Unit'].values.reshape(-1,1)"
   ]
  },
  {
   "cell_type": "code",
   "execution_count": 19,
   "id": "b2a22902",
   "metadata": {},
   "outputs": [
    {
     "data": {
      "text/plain": [
       "array([[25],\n",
       "       [22],\n",
       "       [30],\n",
       "       ...,\n",
       "       [ 7],\n",
       "       [ 7],\n",
       "       [ 1]])"
      ]
     },
     "execution_count": 19,
     "metadata": {},
     "output_type": "execute_result"
    }
   ],
   "source": [
    "X"
   ]
  },
  {
   "cell_type": "code",
   "execution_count": 20,
   "id": "d7d14516",
   "metadata": {},
   "outputs": [
    {
     "data": {
      "text/plain": [
       "array([[85.72],\n",
       "       [42.61],\n",
       "       [36.5 ],\n",
       "       ...,\n",
       "       [92.61],\n",
       "       [15.3 ],\n",
       "       [49.31]])"
      ]
     },
     "execution_count": 20,
     "metadata": {},
     "output_type": "execute_result"
    }
   ],
   "source": [
    "y"
   ]
  },
  {
   "cell_type": "code",
   "execution_count": 21,
   "id": "557eb624",
   "metadata": {},
   "outputs": [],
   "source": [
    "# Split data into a training set and a test set.\n",
    "\n",
    "X_train, X_test, y_train, y_test = train_test_split(X, y, test_size=0.3, random_state=0)"
   ]
  },
  {
   "cell_type": "markdown",
   "id": "3c534833",
   "metadata": {},
   "source": [
    "## 4. Regression Analysis"
   ]
  },
  {
   "cell_type": "code",
   "execution_count": 22,
   "id": "df9f220e",
   "metadata": {},
   "outputs": [],
   "source": [
    "# Create a regression object.\n",
    "\n",
    "regression = LinearRegression()  # This is the regression object, which will be fit onto the training set."
   ]
  },
  {
   "cell_type": "code",
   "execution_count": 23,
   "id": "4ade2351",
   "metadata": {},
   "outputs": [
    {
     "data": {
      "text/html": [
       "<style>#sk-container-id-1 {color: black;}#sk-container-id-1 pre{padding: 0;}#sk-container-id-1 div.sk-toggleable {background-color: white;}#sk-container-id-1 label.sk-toggleable__label {cursor: pointer;display: block;width: 100%;margin-bottom: 0;padding: 0.3em;box-sizing: border-box;text-align: center;}#sk-container-id-1 label.sk-toggleable__label-arrow:before {content: \"▸\";float: left;margin-right: 0.25em;color: #696969;}#sk-container-id-1 label.sk-toggleable__label-arrow:hover:before {color: black;}#sk-container-id-1 div.sk-estimator:hover label.sk-toggleable__label-arrow:before {color: black;}#sk-container-id-1 div.sk-toggleable__content {max-height: 0;max-width: 0;overflow: hidden;text-align: left;background-color: #f0f8ff;}#sk-container-id-1 div.sk-toggleable__content pre {margin: 0.2em;color: black;border-radius: 0.25em;background-color: #f0f8ff;}#sk-container-id-1 input.sk-toggleable__control:checked~div.sk-toggleable__content {max-height: 200px;max-width: 100%;overflow: auto;}#sk-container-id-1 input.sk-toggleable__control:checked~label.sk-toggleable__label-arrow:before {content: \"▾\";}#sk-container-id-1 div.sk-estimator input.sk-toggleable__control:checked~label.sk-toggleable__label {background-color: #d4ebff;}#sk-container-id-1 div.sk-label input.sk-toggleable__control:checked~label.sk-toggleable__label {background-color: #d4ebff;}#sk-container-id-1 input.sk-hidden--visually {border: 0;clip: rect(1px 1px 1px 1px);clip: rect(1px, 1px, 1px, 1px);height: 1px;margin: -1px;overflow: hidden;padding: 0;position: absolute;width: 1px;}#sk-container-id-1 div.sk-estimator {font-family: monospace;background-color: #f0f8ff;border: 1px dotted black;border-radius: 0.25em;box-sizing: border-box;margin-bottom: 0.5em;}#sk-container-id-1 div.sk-estimator:hover {background-color: #d4ebff;}#sk-container-id-1 div.sk-parallel-item::after {content: \"\";width: 100%;border-bottom: 1px solid gray;flex-grow: 1;}#sk-container-id-1 div.sk-label:hover label.sk-toggleable__label {background-color: #d4ebff;}#sk-container-id-1 div.sk-serial::before {content: \"\";position: absolute;border-left: 1px solid gray;box-sizing: border-box;top: 0;bottom: 0;left: 50%;z-index: 0;}#sk-container-id-1 div.sk-serial {display: flex;flex-direction: column;align-items: center;background-color: white;padding-right: 0.2em;padding-left: 0.2em;position: relative;}#sk-container-id-1 div.sk-item {position: relative;z-index: 1;}#sk-container-id-1 div.sk-parallel {display: flex;align-items: stretch;justify-content: center;background-color: white;position: relative;}#sk-container-id-1 div.sk-item::before, #sk-container-id-1 div.sk-parallel-item::before {content: \"\";position: absolute;border-left: 1px solid gray;box-sizing: border-box;top: 0;bottom: 0;left: 50%;z-index: -1;}#sk-container-id-1 div.sk-parallel-item {display: flex;flex-direction: column;z-index: 1;position: relative;background-color: white;}#sk-container-id-1 div.sk-parallel-item:first-child::after {align-self: flex-end;width: 50%;}#sk-container-id-1 div.sk-parallel-item:last-child::after {align-self: flex-start;width: 50%;}#sk-container-id-1 div.sk-parallel-item:only-child::after {width: 0;}#sk-container-id-1 div.sk-dashed-wrapped {border: 1px dashed gray;margin: 0 0.4em 0.5em 0.4em;box-sizing: border-box;padding-bottom: 0.4em;background-color: white;}#sk-container-id-1 div.sk-label label {font-family: monospace;font-weight: bold;display: inline-block;line-height: 1.2em;}#sk-container-id-1 div.sk-label-container {text-align: center;}#sk-container-id-1 div.sk-container {/* jupyter's `normalize.less` sets `[hidden] { display: none; }` but bootstrap.min.css set `[hidden] { display: none !important; }` so we also need the `!important` here to be able to override the default hidden behavior on the sphinx rendered scikit-learn.org. See: https://github.com/scikit-learn/scikit-learn/issues/21755 */display: inline-block !important;position: relative;}#sk-container-id-1 div.sk-text-repr-fallback {display: none;}</style><div id=\"sk-container-id-1\" class=\"sk-top-container\"><div class=\"sk-text-repr-fallback\"><pre>LinearRegression()</pre><b>In a Jupyter environment, please rerun this cell to show the HTML representation or trust the notebook. <br />On GitHub, the HTML representation is unable to render, please try loading this page with nbviewer.org.</b></div><div class=\"sk-container\" hidden><div class=\"sk-item\"><div class=\"sk-estimator sk-toggleable\"><input class=\"sk-toggleable__control sk-hidden--visually\" id=\"sk-estimator-id-1\" type=\"checkbox\" checked><label for=\"sk-estimator-id-1\" class=\"sk-toggleable__label sk-toggleable__label-arrow\">LinearRegression</label><div class=\"sk-toggleable__content\"><pre>LinearRegression()</pre></div></div></div></div></div>"
      ],
      "text/plain": [
       "LinearRegression()"
      ]
     },
     "execution_count": 23,
     "metadata": {},
     "output_type": "execute_result"
    }
   ],
   "source": [
    "# Fit the regression object onto the training set.\n",
    "\n",
    "regression.fit(X_train, y_train)"
   ]
  },
  {
   "cell_type": "code",
   "execution_count": 24,
   "id": "ff389712",
   "metadata": {},
   "outputs": [],
   "source": [
    "# Predict the values of y using X.\n",
    "\n",
    "y_predicted = regression.predict(X_test)"
   ]
  },
  {
   "cell_type": "code",
   "execution_count": 25,
   "id": "0e7afaa8",
   "metadata": {},
   "outputs": [
    {
     "data": {
      "image/png": "[encoded data removed]",
      "text/plain": [
       "<Figure size 640x480 with 1 Axes>"
      ]
     },
     "metadata": {},
     "output_type": "display_data"
    }
   ],
   "source": [
    "# Create a plot that shows the regression line from the model on the test set.\n",
    "\n",
    "plot_test = plt\n",
    "plot_test.scatter(X_test, y_test, color='gray', s = 15)\n",
    "plot_test.plot(X_test, y_predicted, color='red', linewidth =3)\n",
    "plot_test.title('Shelf Life (days) vs Price per Unit (Test set)')\n",
    "plot_test.xlabel('Shelf Life (days)')\n",
    "plot_test.ylabel('Price per Unit')\n",
    "plot_test.show()"
   ]
  },
  {
   "cell_type": "code",
   "execution_count": 26,
   "id": "f4935929",
   "metadata": {},
   "outputs": [
    {
     "data": {
      "text/plain": [
       "<Figure size 640x480 with 0 Axes>"
      ]
     },
     "metadata": {},
     "output_type": "display_data"
    }
   ],
   "source": [
    "plot_test.savefig(os.path.join(path, '04 Analysis','Visualizations', 'plot_test1.png'))"
   ]
  },
  {
   "cell_type": "code",
   "execution_count": 27,
   "id": "602c82c9",
   "metadata": {},
   "outputs": [],
   "source": [
    "# Create objects that contain the model summary statistics.\n",
    "\n",
    "rmse = mean_squared_error(y_test, y_predicted) # This is the mean squared error\n",
    "r2 = r2_score(y_test, y_predicted) # This is the R2 score. "
   ]
  },
  {
   "cell_type": "code",
   "execution_count": 28,
   "id": "192bdbcd",
   "metadata": {
    "scrolled": true
   },
   "outputs": [
    {
     "name": "stdout",
     "output_type": "stream",
     "text": [
      "Slope: [[-0.00521508]]\n",
      "Mean squared error:  685.6908049732003\n",
      "R2 score:  -0.0043622471815221164\n"
     ]
    }
   ],
   "source": [
    "# Print the model summary statistics. This is where you evaluate the performance of the model.\n",
    "\n",
    "print('Slope:' ,regression.coef_)\n",
    "print('Mean squared error: ', rmse)\n",
    "print('R2 score: ', r2)"
   ]
  },
  {
   "cell_type": "markdown",
   "id": "972ec96c",
   "metadata": {},
   "source": [
    "### Analysis:\n",
    "#### Slope: as shelf life rises, the price per unit sightly drops at a degress of .0052.\n",
    "#### MSE: the MSE is extremely large, meaning the regression line is not accurate.\n",
    "#### R2 score: the very small, negative score indicates the model does not explain the variance in the data."
   ]
  },
  {
   "cell_type": "code",
   "execution_count": 29,
   "id": "8c6d6beb",
   "metadata": {},
   "outputs": [
    {
     "data": {
      "text/plain": [
       "array([[55.37010595],\n",
       "       [55.39618136],\n",
       "       [55.1302122 ],\n",
       "       ...,\n",
       "       [55.39618136],\n",
       "       [55.29709481],\n",
       "       [55.40139644]])"
      ]
     },
     "execution_count": 29,
     "metadata": {},
     "output_type": "execute_result"
    }
   ],
   "source": [
    "y_predicted"
   ]
  },
  {
   "cell_type": "code",
   "execution_count": 30,
   "id": "5e2f6a66",
   "metadata": {
    "scrolled": true
   },
   "outputs": [
    {
     "data": {
      "text/html": [
       "<div>\n",
       "<style scoped>\n",
       "    .dataframe tbody tr th:only-of-type {\n",
       "        vertical-align: middle;\n",
       "    }\n",
       "\n",
       "    .dataframe tbody tr th {\n",
       "        vertical-align: top;\n",
       "    }\n",
       "\n",
       "    .dataframe thead th {\n",
       "        text-align: right;\n",
       "    }\n",
       "</style>\n",
       "<table border=\"1\" class=\"dataframe\">\n",
       "  <thead>\n",
       "    <tr style=\"text-align: right;\">\n",
       "      <th></th>\n",
       "      <th>Actual</th>\n",
       "      <th>Predicted</th>\n",
       "    </tr>\n",
       "  </thead>\n",
       "  <tbody>\n",
       "    <tr>\n",
       "      <th>0</th>\n",
       "      <td>19.42</td>\n",
       "      <td>55.370106</td>\n",
       "    </tr>\n",
       "    <tr>\n",
       "      <th>1</th>\n",
       "      <td>76.09</td>\n",
       "      <td>55.396181</td>\n",
       "    </tr>\n",
       "    <tr>\n",
       "      <th>2</th>\n",
       "      <td>13.65</td>\n",
       "      <td>55.130212</td>\n",
       "    </tr>\n",
       "    <tr>\n",
       "      <th>3</th>\n",
       "      <td>18.81</td>\n",
       "      <td>55.375321</td>\n",
       "    </tr>\n",
       "    <tr>\n",
       "      <th>4</th>\n",
       "      <td>35.44</td>\n",
       "      <td>55.375321</td>\n",
       "    </tr>\n",
       "    <tr>\n",
       "      <th>5</th>\n",
       "      <td>84.30</td>\n",
       "      <td>55.250159</td>\n",
       "    </tr>\n",
       "    <tr>\n",
       "      <th>6</th>\n",
       "      <td>66.92</td>\n",
       "      <td>55.375321</td>\n",
       "    </tr>\n",
       "    <tr>\n",
       "      <th>7</th>\n",
       "      <td>43.81</td>\n",
       "      <td>55.354461</td>\n",
       "    </tr>\n",
       "    <tr>\n",
       "      <th>8</th>\n",
       "      <td>11.60</td>\n",
       "      <td>55.239729</td>\n",
       "    </tr>\n",
       "    <tr>\n",
       "      <th>9</th>\n",
       "      <td>97.53</td>\n",
       "      <td>55.276234</td>\n",
       "    </tr>\n",
       "    <tr>\n",
       "      <th>10</th>\n",
       "      <td>27.86</td>\n",
       "      <td>55.317955</td>\n",
       "    </tr>\n",
       "    <tr>\n",
       "      <th>11</th>\n",
       "      <td>36.35</td>\n",
       "      <td>55.432687</td>\n",
       "    </tr>\n",
       "    <tr>\n",
       "      <th>12</th>\n",
       "      <td>47.29</td>\n",
       "      <td>55.328385</td>\n",
       "    </tr>\n",
       "    <tr>\n",
       "      <th>13</th>\n",
       "      <td>70.89</td>\n",
       "      <td>55.244944</td>\n",
       "    </tr>\n",
       "    <tr>\n",
       "      <th>14</th>\n",
       "      <td>44.70</td>\n",
       "      <td>55.411827</td>\n",
       "    </tr>\n",
       "    <tr>\n",
       "      <th>15</th>\n",
       "      <td>51.69</td>\n",
       "      <td>55.297095</td>\n",
       "    </tr>\n",
       "    <tr>\n",
       "      <th>16</th>\n",
       "      <td>90.23</td>\n",
       "      <td>55.401396</td>\n",
       "    </tr>\n",
       "    <tr>\n",
       "      <th>17</th>\n",
       "      <td>23.30</td>\n",
       "      <td>55.427472</td>\n",
       "    </tr>\n",
       "    <tr>\n",
       "      <th>18</th>\n",
       "      <td>28.05</td>\n",
       "      <td>54.759941</td>\n",
       "    </tr>\n",
       "    <tr>\n",
       "      <th>19</th>\n",
       "      <td>47.42</td>\n",
       "      <td>54.660855</td>\n",
       "    </tr>\n",
       "    <tr>\n",
       "      <th>20</th>\n",
       "      <td>23.97</td>\n",
       "      <td>55.380536</td>\n",
       "    </tr>\n",
       "    <tr>\n",
       "      <th>21</th>\n",
       "      <td>49.35</td>\n",
       "      <td>55.375321</td>\n",
       "    </tr>\n",
       "    <tr>\n",
       "      <th>22</th>\n",
       "      <td>87.97</td>\n",
       "      <td>55.411827</td>\n",
       "    </tr>\n",
       "    <tr>\n",
       "      <th>23</th>\n",
       "      <td>76.36</td>\n",
       "      <td>55.286665</td>\n",
       "    </tr>\n",
       "    <tr>\n",
       "      <th>24</th>\n",
       "      <td>73.92</td>\n",
       "      <td>55.364891</td>\n",
       "    </tr>\n",
       "    <tr>\n",
       "      <th>25</th>\n",
       "      <td>60.08</td>\n",
       "      <td>55.307525</td>\n",
       "    </tr>\n",
       "    <tr>\n",
       "      <th>26</th>\n",
       "      <td>75.38</td>\n",
       "      <td>55.406612</td>\n",
       "    </tr>\n",
       "    <tr>\n",
       "      <th>27</th>\n",
       "      <td>51.21</td>\n",
       "      <td>55.297095</td>\n",
       "    </tr>\n",
       "    <tr>\n",
       "      <th>28</th>\n",
       "      <td>74.10</td>\n",
       "      <td>55.385751</td>\n",
       "    </tr>\n",
       "    <tr>\n",
       "      <th>29</th>\n",
       "      <td>37.12</td>\n",
       "      <td>55.025911</td>\n",
       "    </tr>\n",
       "  </tbody>\n",
       "</table>\n",
       "</div>"
      ],
      "text/plain": [
       "    Actual  Predicted\n",
       "0    19.42  55.370106\n",
       "1    76.09  55.396181\n",
       "2    13.65  55.130212\n",
       "3    18.81  55.375321\n",
       "4    35.44  55.375321\n",
       "5    84.30  55.250159\n",
       "6    66.92  55.375321\n",
       "7    43.81  55.354461\n",
       "8    11.60  55.239729\n",
       "9    97.53  55.276234\n",
       "10   27.86  55.317955\n",
       "11   36.35  55.432687\n",
       "12   47.29  55.328385\n",
       "13   70.89  55.244944\n",
       "14   44.70  55.411827\n",
       "15   51.69  55.297095\n",
       "16   90.23  55.401396\n",
       "17   23.30  55.427472\n",
       "18   28.05  54.759941\n",
       "19   47.42  54.660855\n",
       "20   23.97  55.380536\n",
       "21   49.35  55.375321\n",
       "22   87.97  55.411827\n",
       "23   76.36  55.286665\n",
       "24   73.92  55.364891\n",
       "25   60.08  55.307525\n",
       "26   75.38  55.406612\n",
       "27   51.21  55.297095\n",
       "28   74.10  55.385751\n",
       "29   37.12  55.025911"
      ]
     },
     "execution_count": 30,
     "metadata": {},
     "output_type": "execute_result"
    }
   ],
   "source": [
    "# Create a dataframe comparing the actual and predicted values of y.\n",
    "\n",
    "data = pd.DataFrame({'Actual': y_test.flatten(), 'Predicted': y_predicted.flatten()})\n",
    "data.head(30)"
   ]
  },
  {
   "cell_type": "markdown",
   "id": "921c832c",
   "metadata": {},
   "source": [
    "#### This model does not result in accuratley predicting the actual data."
   ]
  },
  {
   "cell_type": "markdown",
   "id": "248662a9",
   "metadata": {},
   "source": [
    "### Compare how the regression fits the training set"
   ]
  },
  {
   "cell_type": "code",
   "execution_count": 31,
   "id": "2f121af2",
   "metadata": {},
   "outputs": [],
   "source": [
    "# Predict.\n",
    "\n",
    "y_predicted_train = regression.predict(X_train) # This is predicting X_train!"
   ]
  },
  {
   "cell_type": "code",
   "execution_count": 32,
   "id": "0693545b",
   "metadata": {},
   "outputs": [],
   "source": [
    "rmse = mean_squared_error(y_train, y_predicted_train)\n",
    "r2 = r2_score(y_train, y_predicted_train)"
   ]
  },
  {
   "cell_type": "code",
   "execution_count": 33,
   "id": "9b73a1b7",
   "metadata": {},
   "outputs": [
    {
     "name": "stdout",
     "output_type": "stream",
     "text": [
      "Slope: [[-0.00521508]]\n",
      "Mean squared error:  672.240332485264\n",
      "R2 score:  3.575764442453888e-05\n"
     ]
    }
   ],
   "source": [
    "print('Slope:' ,regression.coef_)\n",
    "print('Mean squared error: ', rmse)\n",
    "print('R2 score: ', r2)"
   ]
  },
  {
   "cell_type": "markdown",
   "id": "dfd01b77",
   "metadata": {},
   "source": [
    "### Analysis:\n",
    "#### The results for slope and MSE are very close to the test set,  and the R2 score is even smaller than the test set results. "
   ]
  },
  {
   "cell_type": "code",
   "execution_count": 38,
   "id": "ea0e9290",
   "metadata": {},
   "outputs": [
    {
     "data": {
      "image/png": "[encoded data removed]",
      "text/plain": [
       "<Figure size 640x480 with 1 Axes>"
      ]
     },
     "metadata": {},
     "output_type": "display_data"
    }
   ],
   "source": [
    "# Visualizing the training set results.\n",
    "\n",
    "plot_test_training = plt\n",
    "plot_test.scatter(X_train, y_train, color='green', s = 15)\n",
    "plot_test.plot(X_train, y_predicted_train, color='red', linewidth =3)\n",
    "plot_test.title('Shelf Life (days) vs Price per Unit (Training set)')\n",
    "plot_test.xlabel('Shelf Life (days)')\n",
    "plot_test.ylabel('Price per Unit')\n",
    "plot_test.show()"
   ]
  },
  {
   "cell_type": "code",
   "execution_count": 39,
   "id": "ddc9668d",
   "metadata": {},
   "outputs": [
    {
     "data": {
      "text/plain": [
       "<Figure size 640x480 with 0 Axes>"
      ]
     },
     "metadata": {},
     "output_type": "display_data"
    }
   ],
   "source": [
    "plot_test_training.savefig(os.path.join(path, '04 Analysis','Visualizations', 'plot_training1.png'))"
   ]
  },
  {
   "cell_type": "markdown",
   "id": "cf8fd8b6",
   "metadata": {},
   "source": [
    "### Alternative method"
   ]
  },
  {
   "cell_type": "code",
   "execution_count": 42,
   "id": "2d64f872",
   "metadata": {
    "scrolled": false
   },
   "outputs": [
    {
     "ename": "KeyError",
     "evalue": "'Price per Unit'",
     "output_type": "error",
     "traceback": [
      "\u001b[0;31m---------------------------------------------------------------------------\u001b[0m",
      "\u001b[0;31mKeyError\u001b[0m                                  Traceback (most recent call last)",
      "File \u001b[0;32m~/anaconda3/lib/python3.11/site-packages/pandas/core/indexes/base.py:3653\u001b[0m, in \u001b[0;36mIndex.get_loc\u001b[0;34m(self, key)\u001b[0m\n\u001b[1;32m   3652\u001b[0m \u001b[38;5;28;01mtry\u001b[39;00m:\n\u001b[0;32m-> 3653\u001b[0m     \u001b[38;5;28;01mreturn\u001b[39;00m \u001b[38;5;28mself\u001b[39m\u001b[38;5;241m.\u001b[39m_engine\u001b[38;5;241m.\u001b[39mget_loc(casted_key)\n\u001b[1;32m   3654\u001b[0m \u001b[38;5;28;01mexcept\u001b[39;00m \u001b[38;5;167;01mKeyError\u001b[39;00m \u001b[38;5;28;01mas\u001b[39;00m err:\n",
      "File \u001b[0;32m~/anaconda3/lib/python3.11/site-packages/pandas/_libs/index.pyx:147\u001b[0m, in \u001b[0;36mpandas._libs.index.IndexEngine.get_loc\u001b[0;34m()\u001b[0m\n",
      "File \u001b[0;32m~/anaconda3/lib/python3.11/site-packages/pandas/_libs/index.pyx:176\u001b[0m, in \u001b[0;36mpandas._libs.index.IndexEngine.get_loc\u001b[0;34m()\u001b[0m\n",
      "File \u001b[0;32mpandas/_libs/hashtable_class_helper.pxi:7080\u001b[0m, in \u001b[0;36mpandas._libs.hashtable.PyObjectHashTable.get_item\u001b[0;34m()\u001b[0m\n",
      "File \u001b[0;32mpandas/_libs/hashtable_class_helper.pxi:7088\u001b[0m, in \u001b[0;36mpandas._libs.hashtable.PyObjectHashTable.get_item\u001b[0;34m()\u001b[0m\n",
      "\u001b[0;31mKeyError\u001b[0m: 'Price per Unit'",
      "\nThe above exception was the direct cause of the following exception:\n",
      "\u001b[0;31mKeyError\u001b[0m                                  Traceback (most recent call last)",
      "Cell \u001b[0;32mIn[42], line 5\u001b[0m\n\u001b[1;32m      3\u001b[0m \u001b[38;5;66;03m# Regression analysis\u001b[39;00m\n\u001b[1;32m      4\u001b[0m X \u001b[38;5;241m=\u001b[39m df[[\u001b[38;5;124m'\u001b[39m\u001b[38;5;124mShelf Life (days)\u001b[39m\u001b[38;5;124m'\u001b[39m] \u001b[38;5;241m+\u001b[39m [col \u001b[38;5;28;01mfor\u001b[39;00m col \u001b[38;5;129;01min\u001b[39;00m data\u001b[38;5;241m.\u001b[39mcolumns \u001b[38;5;28;01mif\u001b[39;00m col\u001b[38;5;241m.\u001b[39mstartswith(\u001b[38;5;124m'\u001b[39m\u001b[38;5;124mPrice per Unit\u001b[39m\u001b[38;5;124m'\u001b[39m)]]\n\u001b[0;32m----> 5\u001b[0m y \u001b[38;5;241m=\u001b[39m df[\u001b[38;5;124m'\u001b[39m\u001b[38;5;124mPrice per Unit\u001b[39m\u001b[38;5;124m'\u001b[39m]\n\u001b[1;32m      7\u001b[0m \u001b[38;5;66;03m# Add a constant to the model\u001b[39;00m\n\u001b[1;32m      8\u001b[0m X \u001b[38;5;241m=\u001b[39m sm\u001b[38;5;241m.\u001b[39madd_constant(X)\n",
      "File \u001b[0;32m~/anaconda3/lib/python3.11/site-packages/pandas/core/frame.py:3761\u001b[0m, in \u001b[0;36mDataFrame.__getitem__\u001b[0;34m(self, key)\u001b[0m\n\u001b[1;32m   3759\u001b[0m \u001b[38;5;28;01mif\u001b[39;00m \u001b[38;5;28mself\u001b[39m\u001b[38;5;241m.\u001b[39mcolumns\u001b[38;5;241m.\u001b[39mnlevels \u001b[38;5;241m>\u001b[39m \u001b[38;5;241m1\u001b[39m:\n\u001b[1;32m   3760\u001b[0m     \u001b[38;5;28;01mreturn\u001b[39;00m \u001b[38;5;28mself\u001b[39m\u001b[38;5;241m.\u001b[39m_getitem_multilevel(key)\n\u001b[0;32m-> 3761\u001b[0m indexer \u001b[38;5;241m=\u001b[39m \u001b[38;5;28mself\u001b[39m\u001b[38;5;241m.\u001b[39mcolumns\u001b[38;5;241m.\u001b[39mget_loc(key)\n\u001b[1;32m   3762\u001b[0m \u001b[38;5;28;01mif\u001b[39;00m is_integer(indexer):\n\u001b[1;32m   3763\u001b[0m     indexer \u001b[38;5;241m=\u001b[39m [indexer]\n",
      "File \u001b[0;32m~/anaconda3/lib/python3.11/site-packages/pandas/core/indexes/base.py:3655\u001b[0m, in \u001b[0;36mIndex.get_loc\u001b[0;34m(self, key)\u001b[0m\n\u001b[1;32m   3653\u001b[0m     \u001b[38;5;28;01mreturn\u001b[39;00m \u001b[38;5;28mself\u001b[39m\u001b[38;5;241m.\u001b[39m_engine\u001b[38;5;241m.\u001b[39mget_loc(casted_key)\n\u001b[1;32m   3654\u001b[0m \u001b[38;5;28;01mexcept\u001b[39;00m \u001b[38;5;167;01mKeyError\u001b[39;00m \u001b[38;5;28;01mas\u001b[39;00m err:\n\u001b[0;32m-> 3655\u001b[0m     \u001b[38;5;28;01mraise\u001b[39;00m \u001b[38;5;167;01mKeyError\u001b[39;00m(key) \u001b[38;5;28;01mfrom\u001b[39;00m \u001b[38;5;21;01merr\u001b[39;00m\n\u001b[1;32m   3656\u001b[0m \u001b[38;5;28;01mexcept\u001b[39;00m \u001b[38;5;167;01mTypeError\u001b[39;00m:\n\u001b[1;32m   3657\u001b[0m     \u001b[38;5;66;03m# If we have a listlike key, _check_indexing_error will raise\u001b[39;00m\n\u001b[1;32m   3658\u001b[0m     \u001b[38;5;66;03m#  InvalidIndexError. Otherwise we fall through and re-raise\u001b[39;00m\n\u001b[1;32m   3659\u001b[0m     \u001b[38;5;66;03m#  the TypeError.\u001b[39;00m\n\u001b[1;32m   3660\u001b[0m     \u001b[38;5;28mself\u001b[39m\u001b[38;5;241m.\u001b[39m_check_indexing_error(key)\n",
      "\u001b[0;31mKeyError\u001b[0m: 'Price per Unit'"
     ]
    }
   ],
   "source": [
    "import statsmodels.api as sm\n",
    "\n",
    "# Regression analysis\n",
    "X = df[['Shelf Life (days)'] + [col for col in data.columns if col.startswith('Price per Unit')]]\n",
    "y = df['Price per Unit']\n",
    "\n",
    "# Add a constant to the model\n",
    "X = sm.add_constant(X)\n",
    "\n",
    "# Fit the regression model\n",
    "model = sm.OLS(y, X).fit()\n",
    "\n",
    "# Print the summary of the regression\n",
    "print(model.summary())"
   ]
  },
  {
   "cell_type": "markdown",
   "id": "431c45a7",
   "metadata": {},
   "source": [
    "### Analysis\n",
    "#### The regression model does not find a meaningful relationship between Price per Unit and Shelf Life (days).\n",
    "#### The very low R-squared and high p-values suggest that Shelf Life (days) is not a significant predictor of Price per Unit.\n",
    "#### The residuals are not normally distributed, as indicated by the Omnibus and Jarque-Bera tests."
   ]
  },
  {
   "cell_type": "code",
   "execution_count": null,
   "id": "937eef99",
   "metadata": {
    "scrolled": true
   },
   "outputs": [],
   "source": [
    "# Examining residuals\n",
    "\n",
    "import numpy as np\n",
    "import statsmodels.api as sm\n",
    "import matplotlib.pyplot as plt\n",
    "\n",
    "# Assuming `model` is your OLS regression result\n",
    "residuals = model.resid\n",
    "\n",
    "# Histogram of residuals\n",
    "plt.hist(residuals, bins=30)\n",
    "plt.title('Histogram of Residuals')\n",
    "plt.xlabel('Residuals')\n",
    "plt.ylabel('Frequency')\n",
    "plt.show()\n",
    "\n",
    "# Q-Q plot\n",
    "sm.qqplot(residuals, line='45')\n",
    "plt.title('Q-Q Plot of Residuals')\n",
    "plt.show()"
   ]
  },
  {
   "cell_type": "markdown",
   "id": "c09a1dc7",
   "metadata": {},
   "source": [
    "### Analysis\n",
    "#### The differences between the observed values (actual data points) and the predicted values (from the regression model) do not follow a normal (Gaussian) distribution. In a normal distribution, the residuals should cluster around the mean (usually zero in regression models) and have a symmetrical bell-shaped curve.\n",
    "#### This could indicate there is a non linear relationship between the variables."
   ]
  },
  {
   "cell_type": "markdown",
   "id": "ab8f6b47",
   "metadata": {},
   "source": [
    "# 5. Summary of Results"
   ]
  },
  {
   "cell_type": "markdown",
   "id": "a83dfb27",
   "metadata": {},
   "source": [
    "### 1) Contingency Table and Chi-square test\n",
    "#### Chi-Square (498,040.04) results is a very large value, indicating a substantial difference between the observed and expected frequencies.\n",
    "#### The p-value (0.0000494) is much smaller than the significance level (0.05); therefore, we rejected the null hypothesis.\n",
    "#### There is strong evidence to suggest a significant association between Price per Unit and Shelf Life (days) at the 0.05 significance level."
   ]
  },
  {
   "cell_type": "markdown",
   "id": "5ee4230d",
   "metadata": {},
   "source": [
    "### 2) Scatterplot\n",
    "#### The scatterplot did not indicate a linear relationship."
   ]
  },
  {
   "cell_type": "markdown",
   "id": "c01d52cf",
   "metadata": {},
   "source": [
    "### 3) Regression Analysis: Test Set\n",
    "#### Slope (-0.0052): as shelf life rises, the price per unit sightly drops at a degress of .0052.\n",
    "#### MSE (685.69): the MSE is extremely large, meaning the regression line is not accurate.\n",
    "#### R2 score (-0.0044): the very small, negative score indicates the model does not explain the variance in the data."
   ]
  },
  {
   "cell_type": "markdown",
   "id": "0226406c",
   "metadata": {},
   "source": [
    "### 4) Regression Analysis: Training Set\n",
    "#### Slope (-0.0052) is identical to the Test set\n",
    "#### MSE (672.24) is very close to the Test set\n",
    "#### R2 (0.0000358) is positive, unlike the Test set score, but is even smaller indicate model inaccuracy"
   ]
  },
  {
   "cell_type": "markdown",
   "id": "6d5daa9d",
   "metadata": {},
   "source": [
    "### 5) Additional Analysis\n",
    "#### The regression model does not find a meaningful relationship between Price per Unit and Shelf Life (days).\n",
    "#### The very low R-squared and high p-values suggest that Shelf Life (days) is not a significant predictor of Price per Unit.\n",
    "#### The residuals are not normally distributed, as indicated by the Omnibus and Jarque-Bera tests"
   ]
  },
  {
   "cell_type": "markdown",
   "id": "e5bd7206",
   "metadata": {},
   "source": [
    "### 6) Residuals\n",
    "#### The differences between the observed values (actual data points) and the predicted values (from the regression model) do not follow a normal (Gaussian) distribution. \n",
    "#### This could indicate there is a non linear relationship between the variables."
   ]
  },
  {
   "cell_type": "code",
   "execution_count": null,
   "id": "a69946b0",
   "metadata": {},
   "outputs": [],
   "source": []
  },
  {
   "cell_type": "code",
   "execution_count": null,
   "id": "adf62b94",
   "metadata": {},
   "outputs": [],
   "source": []
  },
  {
   "cell_type": "code",
   "execution_count": null,
   "id": "24be1b5d",
   "metadata": {},
   "outputs": [],
   "source": []
  }
 ],
 "metadata": {
  "kernelspec": {
   "display_name": "Python 3 (ipykernel)",
   "language": "python",
   "name": "python3"
  },
  "language_info": {
   "codemirror_mode": {
    "name": "ipython",
    "version": 3
   },
   "file_extension": ".py",
   "mimetype": "text/x-python",
   "name": "python",
   "nbconvert_exporter": "python",
   "pygments_lexer": "ipython3",
   "version": "3.11.5"
  }
 },
 "nbformat": 4,
 "nbformat_minor": 5
}
